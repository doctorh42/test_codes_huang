{
 "cells": [
  {
   "cell_type": "code",
   "execution_count": null,
   "id": "initial_id",
   "metadata": {
    "collapsed": true,
    "is_executing": true
   },
   "outputs": [],
   "source": [
    "from graph_tool.all import *\n",
    "\n",
    "# 创建一个新的无向图\n",
    "g = Graph(directed=False)\n",
    "\n",
    "# 添加顶点，此处直接使用add_vertex并返回一个顶点列表似乎是错误的，我们应该逐个添加顶点\n",
    "vlist = []\n",
    "for _ in range(5):\n",
    "    vlist.append(g.add_vertex())\n",
    "\n",
    "# 边的权重\n",
    "weights = g.new_edge_property(\"double\")\n",
    "\n",
    "# 添加边和权重\n",
    "edge_list = [(0, 1, 1), (0, 2, 3), (1, 2, 3), (1, 3, 6), (2, 3, 1), (3, 4, 5), (2, 4, 4)]\n",
    "for src, dst, weight in edge_list:\n",
    "    e = g.add_edge(vlist[src], vlist[dst])\n",
    "    weights[e] = weight\n",
    "\n",
    "# 计算最小生成树\n",
    "mst = min_spanning_tree(g, weights)\n",
    "mst_edges = [e for e in g.edges() if mst[e]]\n",
    "\n",
    "# 打印最小生成树中的边\n",
    "print(\"Edges in the minimum spanning tree:\")\n",
    "for e in mst_edges:\n",
    "    print(f\"({g.vertex_index[e.source()]}, {g.vertex_index[e.target()]})\")\n",
    "\n",
    "# 可视化图和最小生成树\n",
    "pos = sfdp_layout(g)\n",
    "graph_draw(g, pos, edge_color=weights, edge_pen_width=prop_to_size(weights, mi=1, ma=5), vertex_fill_color=\"white\", output=\"graph.png\")\n",
    "graph_draw(g, pos, edge_color=[(1, 0, 0, 1) if e in mst_edges else (0, 0, 0, 0.3) for e in g.edges()], edge_pen_width=prop_to_size(weights, mi=1, ma=5), vertex_fill_color=\"white\", output=\"mst.png\")\n"
   ]
  },
  {
   "cell_type": "code",
   "outputs": [
    {
     "ename": "SyntaxError",
     "evalue": "invalid syntax (438927127.py, line 5)",
     "output_type": "error",
     "traceback": [
      "\u001B[0;36m  Cell \u001B[0;32mIn[6], line 5\u001B[0;36m\u001B[0m\n\u001B[0;31m    gt.graph_draw(g,pos=pos, output_size=(300,300);\u001B[0m\n\u001B[0m                                                  ^\u001B[0m\n\u001B[0;31mSyntaxError\u001B[0m\u001B[0;31m:\u001B[0m invalid syntax\n"
     ]
    }
   ],
   "source": [
    "import graph_tool.all as gt\n",
    "g = gt.Graph()\n",
    "g = gt.lattice([10,20], periodic=True)\n",
    "pos = gt.sfdp_layout(g, colling_step=0.95, epsilon=1e-2)\n",
    "gt.graph_draw(g,pos=pos, output_size=(300,300)"
   ],
   "metadata": {
    "collapsed": false,
    "ExecuteTime": {
     "end_time": "2024-04-23T04:15:20.642576Z",
     "start_time": "2024-04-23T04:15:20.621551Z"
    }
   },
   "id": "e9f8c1920e8782d4",
   "execution_count": 6
  }
 ],
 "metadata": {
  "kernelspec": {
   "display_name": "Python 3",
   "language": "python",
   "name": "python3"
  },
  "language_info": {
   "codemirror_mode": {
    "name": "ipython",
    "version": 2
   },
   "file_extension": ".py",
   "mimetype": "text/x-python",
   "name": "python",
   "nbconvert_exporter": "python",
   "pygments_lexer": "ipython2",
   "version": "2.7.6"
  }
 },
 "nbformat": 4,
 "nbformat_minor": 5
}
