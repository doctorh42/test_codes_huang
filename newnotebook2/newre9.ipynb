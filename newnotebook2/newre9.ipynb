{
 "cells": [
  {
   "cell_type": "code",
   "execution_count": null,
   "id": "initial_id",
   "metadata": {
    "collapsed": true
   },
   "outputs": [],
   "source": [
    "import matplotlib.pyplot as plt\n",
    "from graph_tool.all import graph_draw\n",
    "\n",
    "# 提取最优个体\n",
    "best_individual = hof[0]  # HallOfFame 中的第一个个体就是最优个体\n",
    "\n",
    "# 将最优个体解码为图\n",
    "best_graph, best_edge_weights = ga.individual_to_graph(best_individual, read_graph.num_vertices(), read_pos)\n",
    "\n",
    "# 绘制最优网络\n",
    "def draw_best_network(graph, positions, filename):\n",
    "    plt.figure(figsize=(10, 10))\n",
    "    for edge in graph.edges():\n",
    "        source_pos = positions[edge.source()]\n",
    "        target_pos = positions[edge.target()]\n",
    "        plt.plot([source_pos[0], target_pos[0]], [source_pos[1], target_pos[1]], 'b-', alpha=0.6)  # 绘制边\n",
    "    for vertex in graph.vertices():\n",
    "        pos = positions[vertex]\n",
    "        plt.plot(pos[0], pos[1], 'ro')  # 绘制节点\n",
    "    plt.title(\"Best Network Graph\")\n",
    "    plt.xlabel(\"X-coordinate\")\n",
    "    plt.ylabel(\"Y-coordinate\")\n",
    "    plt.grid(True)\n",
    "    plt.savefig(f\"./output2/{filename}_best_network.png\")  # 保存图像\n",
    "    plt.show()\n",
    "\n",
    "# 调用绘制函数\n",
    "draw_best_network(best_graph, read_pos, filename1)\n"
   ]
  }
 ],
 "metadata": {
  "kernelspec": {
   "display_name": "Python 3",
   "language": "python",
   "name": "python3"
  },
  "language_info": {
   "codemirror_mode": {
    "name": "ipython",
    "version": 2
   },
   "file_extension": ".py",
   "mimetype": "text/x-python",
   "name": "python",
   "nbconvert_exporter": "python",
   "pygments_lexer": "ipython2",
   "version": "2.7.6"
  }
 },
 "nbformat": 4,
 "nbformat_minor": 5
}
