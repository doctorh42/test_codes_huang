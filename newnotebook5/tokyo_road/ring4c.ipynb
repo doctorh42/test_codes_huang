{
 "cells": [
  {
   "cell_type": "code",
   "execution_count": null,
   "id": "initial_id",
   "metadata": {
    "collapsed": true,
    "is_executing": true
   },
   "outputs": [],
   "source": [
    "import geopandas as gpd\n",
    "from shapely.geometry import shape\n",
    "from shapely.ops import linemerge, unary_union, polygonize\n",
    "import fiona\n",
    "import json\n",
    "\n",
    "# === Step 1: 加载 C4 路段数据 ===\n",
    "c4_gdf = gpd.read_file(\"ringc4.geojson\")\n",
    "\n",
    "# 合并为单条路径 + 封闭成 Polygon\n",
    "merged_lines = linemerge(unary_union(c4_gdf.geometry))\n",
    "polygons = list(polygonize(merged_lines))\n",
    "\n",
    "# 选出最大的闭合区域 Polygon（防止生成多个小环）\n",
    "largest_polygon = max(polygons, key=lambda p: p.area)\n",
    "\n",
    "# === Step 2: 加载 tokyo.geojson 并筛选落在 C4 区域内的道路 ===\n",
    "filtered_features = []\n",
    "\n",
    "with fiona.open(\"tokyo.geojson\", 'r') as src:\n",
    "    crs = src.crs  # 获取坐标系信息\n",
    "    for feature in src:\n",
    "        geom = shape(feature[\"geometry\"])\n",
    "        if geom.within(largest_polygon):  # 是否落在 C4 环内\n",
    "            filtered_features.append({\n",
    "                \"type\": \"Feature\",\n",
    "                \"geometry\": json.loads(json.dumps(feature[\"geometry\"])),\n",
    "                \"properties\": feature[\"properties\"]\n",
    "            })\n",
    "\n",
    "# === Step 3: 保存结果为新的 GeoJSON ===\n",
    "filtered_geojson = {\n",
    "    \"type\": \"FeatureCollection\",\n",
    "    \"features\": filtered_features\n",
    "}\n",
    "\n",
    "with open(\"tokyo_inside_c4.geojson\", \"w\", encoding=\"utf-8\") as f:\n",
    "    json.dump(filtered_geojson, f, ensure_ascii=False)\n",
    "\n",
    "print(\"✅ 筛选完成！输出文件为 tokyo_inside_c4.geojson\")\n"
   ]
  },
  {
   "cell_type": "code",
   "outputs": [],
   "source": [],
   "metadata": {
    "collapsed": false
   },
   "id": "dedf36af4bb55cf8"
  }
 ],
 "metadata": {
  "kernelspec": {
   "display_name": "Python 3",
   "language": "python",
   "name": "python3"
  },
  "language_info": {
   "codemirror_mode": {
    "name": "ipython",
    "version": 2
   },
   "file_extension": ".py",
   "mimetype": "text/x-python",
   "name": "python",
   "nbconvert_exporter": "python",
   "pygments_lexer": "ipython2",
   "version": "2.7.6"
  }
 },
 "nbformat": 4,
 "nbformat_minor": 5
}
