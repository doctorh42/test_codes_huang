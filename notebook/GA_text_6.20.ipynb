{
 "cells": [
  {
   "cell_type": "code",
   "outputs": [
    {
     "name": "stdout",
     "output_type": "stream",
     "text": [
      "nodes:  50 links  69\n"
     ]
    },
    {
     "ename": "TypeError",
     "evalue": "'list' object cannot be interpreted as an integer",
     "output_type": "error",
     "traceback": [
      "\u001B[0;31m---------------------------------------------------------------------------\u001B[0m",
      "\u001B[0;31mTypeError\u001B[0m                                 Traceback (most recent call last)",
      "Cell \u001B[0;32mIn[9], line 21\u001B[0m\n\u001B[1;32m     18\u001B[0m available_edges \u001B[38;5;241m=\u001B[39m \u001B[38;5;28mlist\u001B[39m(read_graph\u001B[38;5;241m.\u001B[39medges())\n\u001B[1;32m     20\u001B[0m \u001B[38;5;66;03m# 执行遗传算法\u001B[39;00m\n\u001B[0;32m---> 21\u001B[0m best_mst \u001B[38;5;241m=\u001B[39m \u001B[43mga\u001B[49m\u001B[38;5;241;43m.\u001B[39;49m\u001B[43mgenetic_algorithm\u001B[49m\u001B[43m(\u001B[49m\u001B[43mread_graph\u001B[49m\u001B[43m,\u001B[49m\u001B[43m \u001B[49m\u001B[43mavailable_edges\u001B[49m\u001B[43m,\u001B[49m\u001B[43m \u001B[49m\u001B[43mPOP_SIZE\u001B[49m\u001B[43m,\u001B[49m\u001B[43m \u001B[49m\u001B[43mNUM_GENERATIONS\u001B[49m\u001B[43m,\u001B[49m\u001B[43m \u001B[49m\u001B[43mMUTATION_RATE\u001B[49m\u001B[43m,\u001B[49m\u001B[43m \u001B[49m\u001B[43mTOURNAMENT_SIZE\u001B[49m\u001B[43m)\u001B[49m\n\u001B[1;32m     23\u001B[0m \u001B[38;5;66;03m# 打印最优解的节点和边数量\u001B[39;00m\n\u001B[1;32m     24\u001B[0m \u001B[38;5;28mprint\u001B[39m(\u001B[38;5;124m\"\u001B[39m\u001B[38;5;124mBest MST nodes: \u001B[39m\u001B[38;5;124m\"\u001B[39m, best_mst\u001B[38;5;241m.\u001B[39mnum_vertices(), \u001B[38;5;124m\"\u001B[39m\u001B[38;5;124mBest MST links: \u001B[39m\u001B[38;5;124m\"\u001B[39m, best_mst\u001B[38;5;241m.\u001B[39mnum_edges())\n",
      "File \u001B[0;32m/mnt/e/python-learn/test_codes_huang_GA/python_codes/genetic_algorithm.py:78\u001B[0m, in \u001B[0;36mgenetic_algorithm\u001B[0;34m(graph, pop_size, num_generations, mutation_rate, tournament_size, progress_bar)\u001B[0m\n\u001B[1;32m     76\u001B[0m population \u001B[38;5;241m=\u001B[39m initialize_population(graph, pop_size)\n\u001B[1;32m     77\u001B[0m best_individual \u001B[38;5;241m=\u001B[39m \u001B[38;5;28;01mNone\u001B[39;00m\n\u001B[0;32m---> 78\u001B[0m best_fitness \u001B[38;5;241m=\u001B[39m \u001B[38;5;28mfloat\u001B[39m(\u001B[38;5;124m'\u001B[39m\u001B[38;5;124minf\u001B[39m\u001B[38;5;124m'\u001B[39m)\n\u001B[1;32m     80\u001B[0m \u001B[38;5;28;01mfor\u001B[39;00m generation \u001B[38;5;129;01min\u001B[39;00m \u001B[38;5;28mrange\u001B[39m(num_generations):\n\u001B[1;32m     81\u001B[0m     new_population \u001B[38;5;241m=\u001B[39m []\n",
      "File \u001B[0;32m/mnt/e/python-learn/test_codes_huang_GA/python_codes/genetic_algorithm.py:10\u001B[0m, in \u001B[0;36minitialize_population\u001B[0;34m(graph, pop_size)\u001B[0m\n\u001B[1;32m      8\u001B[0m \u001B[38;5;28;01mfor\u001B[39;00m _ \u001B[38;5;129;01min\u001B[39;00m \u001B[38;5;28mrange\u001B[39m(pop_size):\n\u001B[1;32m      9\u001B[0m     mst \u001B[38;5;241m=\u001B[39m min_spanning_tree(graph)\n\u001B[0;32m---> 10\u001B[0m     mst_graph \u001B[38;5;241m=\u001B[39m Graph(directed\u001B[38;5;241m=\u001B[39m\u001B[38;5;28;01mFalse\u001B[39;00m)\n\u001B[1;32m     11\u001B[0m     mst_graph\u001B[38;5;241m.\u001B[39madd_vertex(graph\u001B[38;5;241m.\u001B[39mnum_vertices())\n\u001B[1;32m     12\u001B[0m     \u001B[38;5;28;01mfor\u001B[39;00m edge, in_mst \u001B[38;5;129;01min\u001B[39;00m \u001B[38;5;28mzip\u001B[39m(graph\u001B[38;5;241m.\u001B[39medges(), mst):\n",
      "\u001B[0;31mTypeError\u001B[0m: 'list' object cannot be interpreted as an integer"
     ]
    }
   ],
   "source": [
    "import python_codes.files_operators\n",
    "import python_codes.genetic_algorithm as ga\n",
    "from graph_tool import draw\n",
    "\n",
    "filename1 = \"Germany50\"\n",
    "\n",
    "# 读取网络数据\n",
    "read_graph, read_pos = python_codes.files_operators.read_files(f\"../networks_clusters/{filename1}.net\")\n",
    "print(\"nodes: \", read_graph.num_vertices(), \"links \", read_graph.num_edges())\n",
    "\n",
    "# 参数设置\n",
    "POP_SIZE = 50\n",
    "NUM_GENERATIONS = 100\n",
    "MUTATION_RATE = 0.1\n",
    "TOURNAMENT_SIZE = 3\n",
    "\n",
    "# 获取所有可用的边\n",
    "available_edges = list(read_graph.edges())\n",
    "\n",
    "# 执行遗传算法\n",
    "best_mst = ga.genetic_algorithm(read_graph, available_edges, POP_SIZE, NUM_GENERATIONS, MUTATION_RATE, TOURNAMENT_SIZE)\n",
    "\n",
    "# 打印最优解的节点和边数量\n",
    "print(\"Best MST nodes: \", best_mst.num_vertices(), \"Best MST links: \", best_mst.num_edges())\n",
    "\n",
    "# 绘制最优解\n",
    "draw.graph_draw(best_mst, read_pos, vertex_text=best_mst.vertex_properties[\"number\"], edge_color='blue', output_size=(1000, 1000), output=f'./output_GA/{filename1}_{NUM_GENERATIONS}_best_mst.pdf')\n"
   ],
   "metadata": {
    "collapsed": false,
    "ExecuteTime": {
     "end_time": "2024-06-20T16:47:00.190270Z",
     "start_time": "2024-06-20T16:47:00.145402Z"
    }
   },
   "id": "56ee678486805aaa",
   "execution_count": 9
  },
  {
   "cell_type": "code",
   "outputs": [],
   "source": [],
   "metadata": {
    "collapsed": false
   },
   "id": "6bcba36ec78e2c2c"
  }
 ],
 "metadata": {
  "kernelspec": {
   "display_name": "Python 3",
   "language": "python",
   "name": "python3"
  },
  "language_info": {
   "codemirror_mode": {
    "name": "ipython",
    "version": 2
   },
   "file_extension": ".py",
   "mimetype": "text/x-python",
   "name": "python",
   "nbconvert_exporter": "python",
   "pygments_lexer": "ipython2",
   "version": "2.7.6"
  }
 },
 "nbformat": 4,
 "nbformat_minor": 5
}
